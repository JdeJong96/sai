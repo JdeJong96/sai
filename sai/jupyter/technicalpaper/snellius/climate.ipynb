{
 "cells": [
  {
   "cell_type": "markdown",
   "metadata": {
    "tags": []
   },
   "source": [
    "### climate.ipynb\n",
    "\n",
    "Overview of relevant climate variables for technical paper"
   ]
  },
  {
   "cell_type": "code",
   "execution_count": 10,
   "metadata": {
    "tags": []
   },
   "outputs": [],
   "source": [
    "import xarray as xr\n",
    "import matplotlib.pyplot as plt\n",
    "import os\n",
    "import glob\n",
    "import numpy as np"
   ]
  },
  {
   "cell_type": "code",
   "execution_count": 2,
   "metadata": {
    "tags": []
   },
   "outputs": [],
   "source": [
    "# Snellius locations\n",
    "ARCHIVE = \"/projects/0/nwo2021025/archive/\"\n",
    "SAI2020 = ARCHIVE+\"B.E.13.B1950TRC5.ne30g16.ihesp24.sai2020.01\"\n",
    "SAI2050 = ARCHIVE+\"B.E.13.B1950TRC5.ne30g16.ihesp24.sai2050.01\"\n",
    "CONTROL = ARCHIVE+\"B.E.13.B1950TRC5.ne30g16.ihesp24.control2020.01\"\n",
    "\n",
    "# GLENS feedback run data:\n",
    "# https://www.earthsystemgrid.org/dataset/ucar.cgd.ccsm4.GLENS.Feedback.atm.proc.monthly_ave.html\n",
    "# 20 ens. members for 2020-2100 (feedback), and 20 for 2010-2030 (control)\n",
    "# 3 members for both feedback and control for whole simulation\n",
    "\n",
    "# Local locations\n",
    "# GLENS strataero files are found in:\n",
    "# /Users/jasperdejong/Documents/PhD/Geo/data/forcing_bulk/\n",
    "# OK to use the folders Control and Feedback\n",
    "# there might be an annoying time shift, see\n",
    "# .../PhD/Geo/stratforcing_regression/main_analysis.ipynb\n",
    "# for more details\n"
   ]
  },
  {
   "cell_type": "code",
   "execution_count": 11,
   "metadata": {
    "tags": []
   },
   "outputs": [
    {
     "name": "stdout",
     "output_type": "stream",
     "text": [
      "Current working directory: /Users/jasperdejong/Documents/PhD/Geo/sai-git/sai/jupyter/technicalpaper/snellius\n"
     ]
    }
   ],
   "source": [
    "print(f\"Current working directory: {os.getcwd()}\")\n"
   ]
  },
  {
   "cell_type": "code",
   "execution_count": null,
   "metadata": {},
   "outputs": [],
   "source": []
  }
 ],
 "metadata": {
  "kernelspec": {
   "display_name": "Python 3 (ipykernel)",
   "language": "python",
   "name": "python3"
  },
  "language_info": {
   "codemirror_mode": {
    "name": "ipython",
    "version": 3
   },
   "file_extension": ".py",
   "mimetype": "text/x-python",
   "name": "python",
   "nbconvert_exporter": "python",
   "pygments_lexer": "ipython3",
   "version": "3.8.15"
  }
 },
 "nbformat": 4,
 "nbformat_minor": 4
}
