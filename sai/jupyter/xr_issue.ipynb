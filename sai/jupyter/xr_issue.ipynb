{
 "cells": [
  {
   "cell_type": "code",
   "execution_count": 4,
   "id": "d59e4ac3-6047-4bfc-8fa6-e9cc631f0ef4",
   "metadata": {
    "tags": []
   },
   "outputs": [
    {
     "name": "stdout",
     "output_type": "stream",
     "text": [
      "before weighted mean\n",
      " [('lat', {'standard_name': 'latitude', 'long_name': 'Latitude', 'units': 'degrees_north', 'axis': 'Y'}), ('lon', {'standard_name': 'longitude', 'long_name': 'Longitude', 'units': 'degrees_east', 'axis': 'X'}), ('time', {'standard_name': 'time', 'long_name': 'Time'})]\n",
      "\n",
      "after\n",
      " [('lon', {}), ('time', {})]\n"
     ]
    }
   ],
   "source": [
    "import numpy as np\n",
    "import xarray as xr\n",
    "\n",
    "air = xr.tutorial.open_dataset(\"air_temperature\")\n",
    "air['gw'] = ('lat', np.cos(np.deg2rad(air.lat.data)), \n",
    "             {'long_name':'grid weights'})\n",
    "air_wm = air.weighted(air.gw).mean('lat', keep_attrs=True)\n",
    "print('before weighted mean\\n',[(c,air[c].attrs) for c in air.coords])\n",
    "print('\\nafter\\n',[(c,air_wm[c].attrs) for c in air_wm.coords])"
   ]
  },
  {
   "cell_type": "code",
   "execution_count": 8,
   "id": "da97caa9-59eb-40f8-8e50-b3292bde2237",
   "metadata": {
    "tags": []
   },
   "outputs": [
    {
     "name": "stdout",
     "output_type": "stream",
     "text": [
      "before weighted mean\n",
      " [('lat', {'standard_name': 'latitude', 'long_name': 'Latitude', 'units': 'degrees_north', 'axis': 'Y'}), ('lon', {'standard_name': 'longitude', 'long_name': 'Longitude', 'units': 'degrees_east', 'axis': 'X'}), ('time', {'standard_name': 'time', 'long_name': 'Time'})]\n",
      "\n",
      "after\n",
      " [('lon', {}), ('time', {})]\n"
     ]
    }
   ],
   "source": [
    "temp = air.air\n",
    "temp_wm = temp.weighted(air.gw).mean('lat', keep_attrs=True)\n",
    "print('before weighted mean\\n',[(c,temp[c].attrs) for c in temp.coords])\n",
    "print('\\nafter\\n',[(c,temp_wm[c].attrs) for c in temp_wm.coords])"
   ]
  },
  {
   "cell_type": "code",
   "execution_count": 1,
   "id": "8800096b-5d7e-496f-9e7d-829d54206736",
   "metadata": {
    "tags": []
   },
   "outputs": [
    {
     "name": "stdout",
     "output_type": "stream",
     "text": [
      "['2013-01-01' '2013-01-01' '2013-01-01' ... '2014-12-31' '2014-12-31'\n",
      " '2014-12-31']\n"
     ]
    },
    {
     "ename": "TypeError",
     "evalue": "invalid data type for einsum",
     "output_type": "error",
     "traceback": [
      "\u001b[0;31m---------------------------------------------------------------------------\u001b[0m",
      "\u001b[0;31mTypeError\u001b[0m                                 Traceback (most recent call last)",
      "Cell \u001b[0;32mIn[1], line 10\u001b[0m\n\u001b[1;32m      8\u001b[0m \u001b[38;5;28mprint\u001b[39m(air\u001b[38;5;241m.\u001b[39mdate_written\u001b[38;5;241m.\u001b[39mdata)\n\u001b[1;32m      9\u001b[0m air_m \u001b[38;5;241m=\u001b[39m air\u001b[38;5;241m.\u001b[39mmean(\u001b[38;5;124m'\u001b[39m\u001b[38;5;124mlat\u001b[39m\u001b[38;5;124m'\u001b[39m, keep_attrs\u001b[38;5;241m=\u001b[39m\u001b[38;5;28;01mTrue\u001b[39;00m) \u001b[38;5;66;03m# works fine\u001b[39;00m\n\u001b[0;32m---> 10\u001b[0m air_wm2 \u001b[38;5;241m=\u001b[39m air\u001b[38;5;241m.\u001b[39mweighted(air\u001b[38;5;241m.\u001b[39mgw)\u001b[38;5;241m.\u001b[39mmean(\u001b[38;5;124m'\u001b[39m\u001b[38;5;124mlat\u001b[39m\u001b[38;5;124m'\u001b[39m, keep_attrs\u001b[38;5;241m=\u001b[39m\u001b[38;5;28;01mTrue\u001b[39;00m)\n",
      "File \u001b[0;32m~/opt/anaconda3/envs/py311/lib/python3.11/site-packages/xarray/util/deprecation_helpers.py:115\u001b[0m, in \u001b[0;36m_deprecate_positional_args.<locals>._decorator.<locals>.inner\u001b[0;34m(*args, **kwargs)\u001b[0m\n\u001b[1;32m    111\u001b[0m     kwargs\u001b[38;5;241m.\u001b[39mupdate({name: arg \u001b[38;5;28;01mfor\u001b[39;00m name, arg \u001b[38;5;129;01min\u001b[39;00m zip_args})\n\u001b[1;32m    113\u001b[0m     \u001b[38;5;28;01mreturn\u001b[39;00m func(\u001b[38;5;241m*\u001b[39margs[:\u001b[38;5;241m-\u001b[39mn_extra_args], \u001b[38;5;241m*\u001b[39m\u001b[38;5;241m*\u001b[39mkwargs)\n\u001b[0;32m--> 115\u001b[0m \u001b[38;5;28;01mreturn\u001b[39;00m func(\u001b[38;5;241m*\u001b[39margs, \u001b[38;5;241m*\u001b[39m\u001b[38;5;241m*\u001b[39mkwargs)\n",
      "File \u001b[0;32m~/opt/anaconda3/envs/py311/lib/python3.11/site-packages/xarray/core/weighted.py:498\u001b[0m, in \u001b[0;36mWeighted.mean\u001b[0;34m(self, dim, skipna, keep_attrs)\u001b[0m\n\u001b[1;32m    490\u001b[0m \u001b[38;5;129m@_deprecate_positional_args\u001b[39m(\u001b[38;5;124m\"\u001b[39m\u001b[38;5;124mv2023.10.0\u001b[39m\u001b[38;5;124m\"\u001b[39m)\n\u001b[1;32m    491\u001b[0m \u001b[38;5;28;01mdef\u001b[39;00m \u001b[38;5;21mmean\u001b[39m(\n\u001b[1;32m    492\u001b[0m     \u001b[38;5;28mself\u001b[39m,\n\u001b[0;32m   (...)\u001b[0m\n\u001b[1;32m    496\u001b[0m     keep_attrs: \u001b[38;5;28mbool\u001b[39m \u001b[38;5;241m|\u001b[39m \u001b[38;5;28;01mNone\u001b[39;00m \u001b[38;5;241m=\u001b[39m \u001b[38;5;28;01mNone\u001b[39;00m,\n\u001b[1;32m    497\u001b[0m ) \u001b[38;5;241m-\u001b[39m\u001b[38;5;241m>\u001b[39m T_Xarray:\n\u001b[0;32m--> 498\u001b[0m     \u001b[38;5;28;01mreturn\u001b[39;00m \u001b[38;5;28mself\u001b[39m\u001b[38;5;241m.\u001b[39m_implementation(\n\u001b[1;32m    499\u001b[0m         \u001b[38;5;28mself\u001b[39m\u001b[38;5;241m.\u001b[39m_weighted_mean, dim\u001b[38;5;241m=\u001b[39mdim, skipna\u001b[38;5;241m=\u001b[39mskipna, keep_attrs\u001b[38;5;241m=\u001b[39mkeep_attrs\n\u001b[1;32m    500\u001b[0m     )\n",
      "File \u001b[0;32m~/opt/anaconda3/envs/py311/lib/python3.11/site-packages/xarray/core/weighted.py:559\u001b[0m, in \u001b[0;36mDatasetWeighted._implementation\u001b[0;34m(self, func, dim, **kwargs)\u001b[0m\n\u001b[1;32m    556\u001b[0m \u001b[38;5;28;01mdef\u001b[39;00m \u001b[38;5;21m_implementation\u001b[39m(\u001b[38;5;28mself\u001b[39m, func, dim, \u001b[38;5;241m*\u001b[39m\u001b[38;5;241m*\u001b[39mkwargs) \u001b[38;5;241m-\u001b[39m\u001b[38;5;241m>\u001b[39m Dataset:\n\u001b[1;32m    557\u001b[0m     \u001b[38;5;28mself\u001b[39m\u001b[38;5;241m.\u001b[39m_check_dim(dim)\n\u001b[0;32m--> 559\u001b[0m     \u001b[38;5;28;01mreturn\u001b[39;00m \u001b[38;5;28mself\u001b[39m\u001b[38;5;241m.\u001b[39mobj\u001b[38;5;241m.\u001b[39mmap(func, dim\u001b[38;5;241m=\u001b[39mdim, \u001b[38;5;241m*\u001b[39m\u001b[38;5;241m*\u001b[39mkwargs)\n",
      "File \u001b[0;32m~/opt/anaconda3/envs/py311/lib/python3.11/site-packages/xarray/core/dataset.py:7064\u001b[0m, in \u001b[0;36mDataset.map\u001b[0;34m(self, func, keep_attrs, args, **kwargs)\u001b[0m\n\u001b[1;32m   7062\u001b[0m \u001b[38;5;28;01mif\u001b[39;00m keep_attrs \u001b[38;5;129;01mis\u001b[39;00m \u001b[38;5;28;01mNone\u001b[39;00m:\n\u001b[1;32m   7063\u001b[0m     keep_attrs \u001b[38;5;241m=\u001b[39m _get_keep_attrs(default\u001b[38;5;241m=\u001b[39m\u001b[38;5;28;01mFalse\u001b[39;00m)\n\u001b[0;32m-> 7064\u001b[0m variables \u001b[38;5;241m=\u001b[39m {\n\u001b[1;32m   7065\u001b[0m     k: maybe_wrap_array(v, func(v, \u001b[38;5;241m*\u001b[39margs, \u001b[38;5;241m*\u001b[39m\u001b[38;5;241m*\u001b[39mkwargs))\n\u001b[1;32m   7066\u001b[0m     \u001b[38;5;28;01mfor\u001b[39;00m k, v \u001b[38;5;129;01min\u001b[39;00m \u001b[38;5;28mself\u001b[39m\u001b[38;5;241m.\u001b[39mdata_vars\u001b[38;5;241m.\u001b[39mitems()\n\u001b[1;32m   7067\u001b[0m }\n\u001b[1;32m   7068\u001b[0m \u001b[38;5;28;01mif\u001b[39;00m keep_attrs:\n\u001b[1;32m   7069\u001b[0m     \u001b[38;5;28;01mfor\u001b[39;00m k, v \u001b[38;5;129;01min\u001b[39;00m variables\u001b[38;5;241m.\u001b[39mitems():\n",
      "File \u001b[0;32m~/opt/anaconda3/envs/py311/lib/python3.11/site-packages/xarray/core/dataset.py:7065\u001b[0m, in \u001b[0;36m<dictcomp>\u001b[0;34m(.0)\u001b[0m\n\u001b[1;32m   7062\u001b[0m \u001b[38;5;28;01mif\u001b[39;00m keep_attrs \u001b[38;5;129;01mis\u001b[39;00m \u001b[38;5;28;01mNone\u001b[39;00m:\n\u001b[1;32m   7063\u001b[0m     keep_attrs \u001b[38;5;241m=\u001b[39m _get_keep_attrs(default\u001b[38;5;241m=\u001b[39m\u001b[38;5;28;01mFalse\u001b[39;00m)\n\u001b[1;32m   7064\u001b[0m variables \u001b[38;5;241m=\u001b[39m {\n\u001b[0;32m-> 7065\u001b[0m     k: maybe_wrap_array(v, func(v, \u001b[38;5;241m*\u001b[39margs, \u001b[38;5;241m*\u001b[39m\u001b[38;5;241m*\u001b[39mkwargs))\n\u001b[1;32m   7066\u001b[0m     \u001b[38;5;28;01mfor\u001b[39;00m k, v \u001b[38;5;129;01min\u001b[39;00m \u001b[38;5;28mself\u001b[39m\u001b[38;5;241m.\u001b[39mdata_vars\u001b[38;5;241m.\u001b[39mitems()\n\u001b[1;32m   7067\u001b[0m }\n\u001b[1;32m   7068\u001b[0m \u001b[38;5;28;01mif\u001b[39;00m keep_attrs:\n\u001b[1;32m   7069\u001b[0m     \u001b[38;5;28;01mfor\u001b[39;00m k, v \u001b[38;5;129;01min\u001b[39;00m variables\u001b[38;5;241m.\u001b[39mitems():\n",
      "File \u001b[0;32m~/opt/anaconda3/envs/py311/lib/python3.11/site-packages/xarray/core/weighted.py:287\u001b[0m, in \u001b[0;36mWeighted._weighted_mean\u001b[0;34m(self, da, dim, skipna)\u001b[0m\n\u001b[1;32m    279\u001b[0m \u001b[38;5;28;01mdef\u001b[39;00m \u001b[38;5;21m_weighted_mean\u001b[39m(\n\u001b[1;32m    280\u001b[0m     \u001b[38;5;28mself\u001b[39m,\n\u001b[1;32m    281\u001b[0m     da: T_DataArray,\n\u001b[1;32m    282\u001b[0m     dim: Dims \u001b[38;5;241m=\u001b[39m \u001b[38;5;28;01mNone\u001b[39;00m,\n\u001b[1;32m    283\u001b[0m     skipna: \u001b[38;5;28mbool\u001b[39m \u001b[38;5;241m|\u001b[39m \u001b[38;5;28;01mNone\u001b[39;00m \u001b[38;5;241m=\u001b[39m \u001b[38;5;28;01mNone\u001b[39;00m,\n\u001b[1;32m    284\u001b[0m ) \u001b[38;5;241m-\u001b[39m\u001b[38;5;241m>\u001b[39m T_DataArray:\n\u001b[1;32m    285\u001b[0m \u001b[38;5;250m    \u001b[39m\u001b[38;5;124;03m\"\"\"Reduce a DataArray by a weighted ``mean`` along some dimension(s).\"\"\"\u001b[39;00m\n\u001b[0;32m--> 287\u001b[0m     weighted_sum \u001b[38;5;241m=\u001b[39m \u001b[38;5;28mself\u001b[39m\u001b[38;5;241m.\u001b[39m_weighted_sum(da, dim\u001b[38;5;241m=\u001b[39mdim, skipna\u001b[38;5;241m=\u001b[39mskipna)\n\u001b[1;32m    289\u001b[0m     sum_of_weights \u001b[38;5;241m=\u001b[39m \u001b[38;5;28mself\u001b[39m\u001b[38;5;241m.\u001b[39m_sum_of_weights(da, dim\u001b[38;5;241m=\u001b[39mdim)\n\u001b[1;32m    291\u001b[0m     \u001b[38;5;28;01mreturn\u001b[39;00m weighted_sum \u001b[38;5;241m/\u001b[39m sum_of_weights\n",
      "File \u001b[0;32m~/opt/anaconda3/envs/py311/lib/python3.11/site-packages/xarray/core/weighted.py:277\u001b[0m, in \u001b[0;36mWeighted._weighted_sum\u001b[0;34m(self, da, dim, skipna)\u001b[0m\n\u001b[1;32m    269\u001b[0m \u001b[38;5;28;01mdef\u001b[39;00m \u001b[38;5;21m_weighted_sum\u001b[39m(\n\u001b[1;32m    270\u001b[0m     \u001b[38;5;28mself\u001b[39m,\n\u001b[1;32m    271\u001b[0m     da: T_DataArray,\n\u001b[1;32m    272\u001b[0m     dim: Dims \u001b[38;5;241m=\u001b[39m \u001b[38;5;28;01mNone\u001b[39;00m,\n\u001b[1;32m    273\u001b[0m     skipna: \u001b[38;5;28mbool\u001b[39m \u001b[38;5;241m|\u001b[39m \u001b[38;5;28;01mNone\u001b[39;00m \u001b[38;5;241m=\u001b[39m \u001b[38;5;28;01mNone\u001b[39;00m,\n\u001b[1;32m    274\u001b[0m ) \u001b[38;5;241m-\u001b[39m\u001b[38;5;241m>\u001b[39m T_DataArray:\n\u001b[1;32m    275\u001b[0m \u001b[38;5;250m    \u001b[39m\u001b[38;5;124;03m\"\"\"Reduce a DataArray by a weighted ``sum`` along some dimension(s).\"\"\"\u001b[39;00m\n\u001b[0;32m--> 277\u001b[0m     \u001b[38;5;28;01mreturn\u001b[39;00m \u001b[38;5;28mself\u001b[39m\u001b[38;5;241m.\u001b[39m_reduce(da, \u001b[38;5;28mself\u001b[39m\u001b[38;5;241m.\u001b[39mweights, dim\u001b[38;5;241m=\u001b[39mdim, skipna\u001b[38;5;241m=\u001b[39mskipna)\n",
      "File \u001b[0;32m~/opt/anaconda3/envs/py311/lib/python3.11/site-packages/xarray/core/weighted.py:232\u001b[0m, in \u001b[0;36mWeighted._reduce\u001b[0;34m(da, weights, dim, skipna)\u001b[0m\n\u001b[1;32m    228\u001b[0m     da \u001b[38;5;241m=\u001b[39m da\u001b[38;5;241m.\u001b[39mfillna(\u001b[38;5;241m0.0\u001b[39m)\n\u001b[1;32m    230\u001b[0m \u001b[38;5;66;03m# `dot` does not broadcast arrays, so this avoids creating a large\u001b[39;00m\n\u001b[1;32m    231\u001b[0m \u001b[38;5;66;03m# DataArray (if `weights` has additional dimensions)\u001b[39;00m\n\u001b[0;32m--> 232\u001b[0m \u001b[38;5;28;01mreturn\u001b[39;00m dot(da, weights, dim\u001b[38;5;241m=\u001b[39mdim)\n",
      "File \u001b[0;32m~/opt/anaconda3/envs/py311/lib/python3.11/site-packages/xarray/util/deprecation_helpers.py:140\u001b[0m, in \u001b[0;36mdeprecate_dims.<locals>.wrapper\u001b[0;34m(*args, **kwargs)\u001b[0m\n\u001b[1;32m    132\u001b[0m     emit_user_level_warning(\n\u001b[1;32m    133\u001b[0m         \u001b[38;5;124mf\u001b[39m\u001b[38;5;124m\"\u001b[39m\u001b[38;5;124mThe `\u001b[39m\u001b[38;5;132;01m{\u001b[39;00mold_name\u001b[38;5;132;01m}\u001b[39;00m\u001b[38;5;124m` argument has been renamed to `dim`, and will be removed \u001b[39m\u001b[38;5;124m\"\u001b[39m\n\u001b[1;32m    134\u001b[0m         \u001b[38;5;124m\"\u001b[39m\u001b[38;5;124min the future. This renaming is taking place throughout xarray over the \u001b[39m\u001b[38;5;124m\"\u001b[39m\n\u001b[0;32m   (...)\u001b[0m\n\u001b[1;32m    137\u001b[0m         \u001b[38;5;167;01mPendingDeprecationWarning\u001b[39;00m,\n\u001b[1;32m    138\u001b[0m     )\n\u001b[1;32m    139\u001b[0m     kwargs[\u001b[38;5;124m\"\u001b[39m\u001b[38;5;124mdim\u001b[39m\u001b[38;5;124m\"\u001b[39m] \u001b[38;5;241m=\u001b[39m kwargs\u001b[38;5;241m.\u001b[39mpop(old_name)\n\u001b[0;32m--> 140\u001b[0m \u001b[38;5;28;01mreturn\u001b[39;00m func(\u001b[38;5;241m*\u001b[39margs, \u001b[38;5;241m*\u001b[39m\u001b[38;5;241m*\u001b[39mkwargs)\n",
      "File \u001b[0;32m~/opt/anaconda3/envs/py311/lib/python3.11/site-packages/xarray/core/computation.py:1870\u001b[0m, in \u001b[0;36mdot\u001b[0;34m(dim, *arrays, **kwargs)\u001b[0m\n\u001b[1;32m   1867\u001b[0m \u001b[38;5;66;03m# subscripts should be passed to np.einsum as arg, not as kwargs. We need\u001b[39;00m\n\u001b[1;32m   1868\u001b[0m \u001b[38;5;66;03m# to construct a partial function for apply_ufunc to work.\u001b[39;00m\n\u001b[1;32m   1869\u001b[0m func \u001b[38;5;241m=\u001b[39m functools\u001b[38;5;241m.\u001b[39mpartial(duck_array_ops\u001b[38;5;241m.\u001b[39meinsum, subscripts, \u001b[38;5;241m*\u001b[39m\u001b[38;5;241m*\u001b[39mkwargs)\n\u001b[0;32m-> 1870\u001b[0m result \u001b[38;5;241m=\u001b[39m apply_ufunc(\n\u001b[1;32m   1871\u001b[0m     func,\n\u001b[1;32m   1872\u001b[0m     \u001b[38;5;241m*\u001b[39marrays,\n\u001b[1;32m   1873\u001b[0m     input_core_dims\u001b[38;5;241m=\u001b[39minput_core_dims,\n\u001b[1;32m   1874\u001b[0m     output_core_dims\u001b[38;5;241m=\u001b[39moutput_core_dims,\n\u001b[1;32m   1875\u001b[0m     join\u001b[38;5;241m=\u001b[39mjoin,\n\u001b[1;32m   1876\u001b[0m     dask\u001b[38;5;241m=\u001b[39m\u001b[38;5;124m\"\u001b[39m\u001b[38;5;124mallowed\u001b[39m\u001b[38;5;124m\"\u001b[39m,\n\u001b[1;32m   1877\u001b[0m )\n\u001b[1;32m   1878\u001b[0m \u001b[38;5;28;01mreturn\u001b[39;00m result\u001b[38;5;241m.\u001b[39mtranspose(\u001b[38;5;241m*\u001b[39mall_dims, missing_dims\u001b[38;5;241m=\u001b[39m\u001b[38;5;124m\"\u001b[39m\u001b[38;5;124mignore\u001b[39m\u001b[38;5;124m\"\u001b[39m)\n",
      "File \u001b[0;32m~/opt/anaconda3/envs/py311/lib/python3.11/site-packages/xarray/core/computation.py:1268\u001b[0m, in \u001b[0;36mapply_ufunc\u001b[0;34m(func, input_core_dims, output_core_dims, exclude_dims, vectorize, join, dataset_join, dataset_fill_value, keep_attrs, kwargs, dask, output_dtypes, output_sizes, meta, dask_gufunc_kwargs, on_missing_core_dim, *args)\u001b[0m\n\u001b[1;32m   1266\u001b[0m \u001b[38;5;66;03m# feed DataArray apply_variable_ufunc through apply_dataarray_vfunc\u001b[39;00m\n\u001b[1;32m   1267\u001b[0m \u001b[38;5;28;01melif\u001b[39;00m \u001b[38;5;28many\u001b[39m(\u001b[38;5;28misinstance\u001b[39m(a, DataArray) \u001b[38;5;28;01mfor\u001b[39;00m a \u001b[38;5;129;01min\u001b[39;00m args):\n\u001b[0;32m-> 1268\u001b[0m     \u001b[38;5;28;01mreturn\u001b[39;00m apply_dataarray_vfunc(\n\u001b[1;32m   1269\u001b[0m         variables_vfunc,\n\u001b[1;32m   1270\u001b[0m         \u001b[38;5;241m*\u001b[39margs,\n\u001b[1;32m   1271\u001b[0m         signature\u001b[38;5;241m=\u001b[39msignature,\n\u001b[1;32m   1272\u001b[0m         join\u001b[38;5;241m=\u001b[39mjoin,\n\u001b[1;32m   1273\u001b[0m         exclude_dims\u001b[38;5;241m=\u001b[39mexclude_dims,\n\u001b[1;32m   1274\u001b[0m         keep_attrs\u001b[38;5;241m=\u001b[39mkeep_attrs,\n\u001b[1;32m   1275\u001b[0m     )\n\u001b[1;32m   1276\u001b[0m \u001b[38;5;66;03m# feed Variables directly through apply_variable_ufunc\u001b[39;00m\n\u001b[1;32m   1277\u001b[0m \u001b[38;5;28;01melif\u001b[39;00m \u001b[38;5;28many\u001b[39m(\u001b[38;5;28misinstance\u001b[39m(a, Variable) \u001b[38;5;28;01mfor\u001b[39;00m a \u001b[38;5;129;01min\u001b[39;00m args):\n",
      "File \u001b[0;32m~/opt/anaconda3/envs/py311/lib/python3.11/site-packages/xarray/core/computation.py:312\u001b[0m, in \u001b[0;36mapply_dataarray_vfunc\u001b[0;34m(func, signature, join, exclude_dims, keep_attrs, *args)\u001b[0m\n\u001b[1;32m    307\u001b[0m result_coords, result_indexes \u001b[38;5;241m=\u001b[39m build_output_coords_and_indexes(\n\u001b[1;32m    308\u001b[0m     args, signature, exclude_dims, combine_attrs\u001b[38;5;241m=\u001b[39mkeep_attrs\n\u001b[1;32m    309\u001b[0m )\n\u001b[1;32m    311\u001b[0m data_vars \u001b[38;5;241m=\u001b[39m [\u001b[38;5;28mgetattr\u001b[39m(a, \u001b[38;5;124m\"\u001b[39m\u001b[38;5;124mvariable\u001b[39m\u001b[38;5;124m\"\u001b[39m, a) \u001b[38;5;28;01mfor\u001b[39;00m a \u001b[38;5;129;01min\u001b[39;00m args]\n\u001b[0;32m--> 312\u001b[0m result_var \u001b[38;5;241m=\u001b[39m func(\u001b[38;5;241m*\u001b[39mdata_vars)\n\u001b[1;32m    314\u001b[0m out: \u001b[38;5;28mtuple\u001b[39m[DataArray, \u001b[38;5;241m.\u001b[39m\u001b[38;5;241m.\u001b[39m\u001b[38;5;241m.\u001b[39m] \u001b[38;5;241m|\u001b[39m DataArray\n\u001b[1;32m    315\u001b[0m \u001b[38;5;28;01mif\u001b[39;00m signature\u001b[38;5;241m.\u001b[39mnum_outputs \u001b[38;5;241m>\u001b[39m \u001b[38;5;241m1\u001b[39m:\n",
      "File \u001b[0;32m~/opt/anaconda3/envs/py311/lib/python3.11/site-packages/xarray/core/computation.py:821\u001b[0m, in \u001b[0;36mapply_variable_ufunc\u001b[0;34m(func, signature, exclude_dims, dask, output_dtypes, vectorize, keep_attrs, dask_gufunc_kwargs, *args)\u001b[0m\n\u001b[1;32m    816\u001b[0m     \u001b[38;5;28;01mif\u001b[39;00m vectorize:\n\u001b[1;32m    817\u001b[0m         func \u001b[38;5;241m=\u001b[39m _vectorize(\n\u001b[1;32m    818\u001b[0m             func, signature, output_dtypes\u001b[38;5;241m=\u001b[39moutput_dtypes, exclude_dims\u001b[38;5;241m=\u001b[39mexclude_dims\n\u001b[1;32m    819\u001b[0m         )\n\u001b[0;32m--> 821\u001b[0m result_data \u001b[38;5;241m=\u001b[39m func(\u001b[38;5;241m*\u001b[39minput_data)\n\u001b[1;32m    823\u001b[0m \u001b[38;5;28;01mif\u001b[39;00m signature\u001b[38;5;241m.\u001b[39mnum_outputs \u001b[38;5;241m==\u001b[39m \u001b[38;5;241m1\u001b[39m:\n\u001b[1;32m    824\u001b[0m     result_data \u001b[38;5;241m=\u001b[39m (result_data,)\n",
      "File \u001b[0;32m~/opt/anaconda3/envs/py311/lib/python3.11/site-packages/xarray/core/duck_array_ops.py:88\u001b[0m, in \u001b[0;36meinsum\u001b[0;34m(*args, **kwargs)\u001b[0m\n\u001b[1;32m     86\u001b[0m     \u001b[38;5;28;01mreturn\u001b[39;00m opt_einsum\u001b[38;5;241m.\u001b[39mcontract(\u001b[38;5;241m*\u001b[39margs, \u001b[38;5;241m*\u001b[39m\u001b[38;5;241m*\u001b[39mkwargs)\n\u001b[1;32m     87\u001b[0m \u001b[38;5;28;01melse\u001b[39;00m:\n\u001b[0;32m---> 88\u001b[0m     \u001b[38;5;28;01mreturn\u001b[39;00m np\u001b[38;5;241m.\u001b[39meinsum(\u001b[38;5;241m*\u001b[39margs, \u001b[38;5;241m*\u001b[39m\u001b[38;5;241m*\u001b[39mkwargs)\n",
      "File \u001b[0;32m~/opt/anaconda3/envs/py311/lib/python3.11/site-packages/numpy/core/einsumfunc.py:1371\u001b[0m, in \u001b[0;36meinsum\u001b[0;34m(out, optimize, *operands, **kwargs)\u001b[0m\n\u001b[1;32m   1369\u001b[0m     \u001b[38;5;28;01mif\u001b[39;00m specified_out:\n\u001b[1;32m   1370\u001b[0m         kwargs[\u001b[38;5;124m'\u001b[39m\u001b[38;5;124mout\u001b[39m\u001b[38;5;124m'\u001b[39m] \u001b[38;5;241m=\u001b[39m out\n\u001b[0;32m-> 1371\u001b[0m     \u001b[38;5;28;01mreturn\u001b[39;00m c_einsum(\u001b[38;5;241m*\u001b[39moperands, \u001b[38;5;241m*\u001b[39m\u001b[38;5;241m*\u001b[39mkwargs)\n\u001b[1;32m   1373\u001b[0m \u001b[38;5;66;03m# Check the kwargs to avoid a more cryptic error later, without having to\u001b[39;00m\n\u001b[1;32m   1374\u001b[0m \u001b[38;5;66;03m# repeat default values here\u001b[39;00m\n\u001b[1;32m   1375\u001b[0m valid_einsum_kwargs \u001b[38;5;241m=\u001b[39m [\u001b[38;5;124m'\u001b[39m\u001b[38;5;124mdtype\u001b[39m\u001b[38;5;124m'\u001b[39m, \u001b[38;5;124m'\u001b[39m\u001b[38;5;124morder\u001b[39m\u001b[38;5;124m'\u001b[39m, \u001b[38;5;124m'\u001b[39m\u001b[38;5;124mcasting\u001b[39m\u001b[38;5;124m'\u001b[39m]\n",
      "\u001b[0;31mTypeError\u001b[0m: invalid data type for einsum"
     ]
    }
   ],
   "source": [
    "import numpy as np\n",
    "import xarray as xr\n",
    "\n",
    "air = xr.tutorial.open_dataset(\"air_temperature\")\n",
    "air['gw'] = ('lat', np.cos(np.deg2rad(air.lat.data)), \n",
    "             {'long_name':'grid weights'})\n",
    "air['date_written'] = air.time.dt.date.astype(str)\n",
    "print(air.date_written.data)\n",
    "air_m = air.mean('lat', keep_attrs=True) # works fine\n",
    "air_wm2 = air.weighted(air.gw).mean('lat', keep_attrs=True) # error"
   ]
  },
  {
   "cell_type": "code",
   "execution_count": 6,
   "id": "5f403ddd-6134-4188-8331-87cde5a11c91",
   "metadata": {
    "tags": []
   },
   "outputs": [
    {
     "name": "stdout",
     "output_type": "stream",
     "text": [
      "\n",
      "INSTALLED VERSIONS\n",
      "------------------\n",
      "commit: None\n",
      "python: 3.11.9 (main, Apr 19 2024, 11:44:45) [Clang 14.0.6 ]\n",
      "python-bits: 64\n",
      "OS: Darwin\n",
      "OS-release: 23.5.0\n",
      "machine: x86_64\n",
      "processor: i386\n",
      "byteorder: little\n",
      "LC_ALL: None\n",
      "LANG: nl_NL.UTF-8\n",
      "LOCALE: ('nl_NL', 'UTF-8')\n",
      "libhdf5: 1.12.1\n",
      "libnetcdf: 4.8.1\n",
      "\n",
      "xarray: 2024.7.0\n",
      "pandas: 2.1.1\n",
      "numpy: 1.25.2\n",
      "scipy: 1.11.3\n",
      "netCDF4: 1.6.2\n",
      "pydap: None\n",
      "h5netcdf: 1.2.0\n",
      "h5py: 3.9.0\n",
      "zarr: None\n",
      "cftime: 1.6.2\n",
      "nc_time_axis: 1.4.1\n",
      "iris: 3.9.0\n",
      "bottleneck: 1.3.5\n",
      "dask: 2024.5.0\n",
      "distributed: 2024.5.0\n",
      "matplotlib: 3.8.4\n",
      "cartopy: 0.22.0\n",
      "seaborn: None\n",
      "numbagg: None\n",
      "fsspec: 2023.9.2\n",
      "cupy: None\n",
      "pint: None\n",
      "sparse: None\n",
      "flox: None\n",
      "numpy_groupies: None\n",
      "setuptools: 72.1.0\n",
      "pip: 24.0\n",
      "conda: 24.7.1\n",
      "pytest: None\n",
      "mypy: None\n",
      "IPython: 8.15.0\n",
      "sphinx: None\n"
     ]
    },
    {
     "name": "stderr",
     "output_type": "stream",
     "text": [
      "/Users/jasperdejong/opt/anaconda3/envs/py311/lib/python3.11/site-packages/_distutils_hack/__init__.py:32: UserWarning: Setuptools is replacing distutils. Support for replacing an already imported distutils is deprecated. In the future, this condition will fail. Register concerns at https://github.com/pypa/setuptools/issues/new?template=distutils-deprecation.yml\n",
      "  warnings.warn(\n"
     ]
    }
   ],
   "source": [
    "xr.show_versions()"
   ]
  },
  {
   "cell_type": "code",
   "execution_count": null,
   "id": "3368cd8b-6953-4964-8748-7d3e0b7e13e7",
   "metadata": {},
   "outputs": [],
   "source": []
  }
 ],
 "metadata": {
  "kernelspec": {
   "display_name": "Python 3 (ipykernel)",
   "language": "python",
   "name": "python3"
  },
  "language_info": {
   "codemirror_mode": {
    "name": "ipython",
    "version": 3
   },
   "file_extension": ".py",
   "mimetype": "text/x-python",
   "name": "python",
   "nbconvert_exporter": "python",
   "pygments_lexer": "ipython3",
   "version": "3.11.9"
  }
 },
 "nbformat": 4,
 "nbformat_minor": 5
}
